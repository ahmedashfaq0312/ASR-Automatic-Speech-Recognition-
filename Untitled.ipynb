{
 "cells": [
  {
   "cell_type": "code",
   "execution_count": 4,
   "id": "75fa46d1-2803-4c64-8522-4d3af9f47891",
   "metadata": {
    "tags": []
   },
   "outputs": [],
   "source": [
    "import pandas as pd\n",
    "file_path = 'Cycl_T45_SOC10-90_Dch0.5C_Ch0.5C_Vito_Cell63_AllData_aggregated.csv'"
   ]
  },
  {
   "cell_type": "code",
   "execution_count": 7,
   "id": "47b94d8a-fcac-4ec6-b294-e57bf32fd97f",
   "metadata": {
    "tags": []
   },
   "outputs": [],
   "source": [
    "data = pd.read_csv(file_path)"
   ]
  },
  {
   "cell_type": "code",
   "execution_count": 10,
   "id": "26102ca6-2a62-4beb-89be-59c053804ee8",
   "metadata": {
    "tags": []
   },
   "outputs": [
    {
     "name": "stdout",
     "output_type": "stream",
     "text": [
      "Data Overview:\n",
      "<class 'pandas.core.frame.DataFrame'>\n",
      "RangeIndex: 4587621 entries, 0 to 4587620\n",
      "Data columns (total 8 columns):\n",
      " #   Column                 Dtype  \n",
      "---  ------                 -----  \n",
      " 0   Unnamed: 0             object \n",
      " 1   Total_Time_Seconds     float64\n",
      " 2   Voltage_V              float64\n",
      " 3   Current_A              float64\n",
      " 4   Charge_Capacity_Ah     float64\n",
      " 5   Discharge_Capacity_Ah  float64\n",
      " 6   Charge_Capacity_Wh     float64\n",
      " 7   Discharge_Capacity_Wh  float64\n",
      "dtypes: float64(7), object(1)\n",
      "memory usage: 280.0+ MB\n",
      "None\n"
     ]
    }
   ],
   "source": [
    "print(\"Data Overview:\")\n",
    "print(data.info())"
   ]
  },
  {
   "cell_type": "code",
   "execution_count": 13,
   "id": "bf5b1b83-24f2-4982-9e7e-d65edb295690",
   "metadata": {
    "tags": []
   },
   "outputs": [
    {
     "name": "stdout",
     "output_type": "stream",
     "text": [
      "\n",
      "First few rows:\n",
      "                Unnamed: 0  Total_Time_Seconds  Voltage_V  Current_A  \\\n",
      "0  2018-12-03 07:49:39.002               0.002   3.526794   0.000005   \n",
      "1  2018-12-03 07:49:40.000               1.000   3.526399   0.000003   \n",
      "2  2018-12-03 07:49:59.449              20.449   3.526428   0.000005   \n",
      "3  2018-12-03 07:50:00.448              21.448   3.526552   0.000001   \n",
      "4  2018-12-03 07:51:00.448              81.448   3.526509   0.000003   \n",
      "\n",
      "   Charge_Capacity_Ah  Discharge_Capacity_Ah  Charge_Capacity_Wh  \\\n",
      "0                 0.0                    0.0                 0.0   \n",
      "1                 0.0                    0.0                 0.0   \n",
      "2                 0.0                    0.0                 0.0   \n",
      "3                 0.0                    0.0                 0.0   \n",
      "4                 0.0                    0.0                 0.0   \n",
      "\n",
      "   Discharge_Capacity_Wh  \n",
      "0                    0.0  \n",
      "1                    0.0  \n",
      "2                    0.0  \n",
      "3                    0.0  \n",
      "4                    0.0  \n"
     ]
    }
   ],
   "source": [
    "print(\"\\nFirst few rows:\")\n",
    "print(data.head())"
   ]
  },
  {
   "cell_type": "code",
   "execution_count": 24,
   "id": "3bc8e1b0-5d8a-410e-aee1-92a30ac29d21",
   "metadata": {
    "tags": []
   },
   "outputs": [
    {
     "name": "stdout",
     "output_type": "stream",
     "text": [
      "\n",
      "Missing values:\n",
      "Unnamed: 0               0\n",
      "Total_Time_Seconds       0\n",
      "Voltage_V                0\n",
      "Current_A                0\n",
      "Charge_Capacity_Ah       0\n",
      "Discharge_Capacity_Ah    0\n",
      "Charge_Capacity_Wh       0\n",
      "Discharge_Capacity_Wh    0\n",
      "dtype: int64\n"
     ]
    }
   ],
   "source": [
    "print(\"\\nMissing values:\")\n",
    "print(data.isnull().sum())"
   ]
  },
  {
   "cell_type": "code",
   "execution_count": 27,
   "id": "f744bc87-50c4-4ddc-afee-9a9101e447d6",
   "metadata": {
    "tags": []
   },
   "outputs": [],
   "source": [
    "original_row_count = data.shape[0]"
   ]
  },
  {
   "cell_type": "code",
   "execution_count": 30,
   "id": "1f0c0dea-a1c5-44bc-8cb1-61872a16bd78",
   "metadata": {
    "tags": []
   },
   "outputs": [],
   "source": [
    "data_cleaned = data.dropna()"
   ]
  },
  {
   "cell_type": "code",
   "execution_count": 33,
   "id": "64e65565-06dd-4a44-8cb0-903a6445ab83",
   "metadata": {
    "tags": []
   },
   "outputs": [],
   "source": [
    "cleaned_row_count = data_cleaned.shape[0]"
   ]
  },
  {
   "cell_type": "code",
   "execution_count": 36,
   "id": "53744f21-deec-4fc5-9290-675c7a635587",
   "metadata": {
    "tags": []
   },
   "outputs": [],
   "source": [
    "rows_removed = original_row_count - cleaned_row_count"
   ]
  },
  {
   "cell_type": "code",
   "execution_count": 39,
   "id": "68536622-58fe-47e2-979c-003421c9dd2a",
   "metadata": {
    "tags": []
   },
   "outputs": [
    {
     "name": "stdout",
     "output_type": "stream",
     "text": [
      "\n",
      "Number of rows in the original dataset: 4587621\n",
      "Number of rows in the cleaned dataset: 4587621\n",
      "Number of rows removed: 0\n"
     ]
    }
   ],
   "source": [
    "print(\"\\nNumber of rows in the original dataset:\", original_row_count)\n",
    "print(\"Number of rows in the cleaned dataset:\", cleaned_row_count)\n",
    "print(\"Number of rows removed:\", rows_removed)"
   ]
  },
  {
   "cell_type": "code",
   "execution_count": null,
   "id": "19bf0608-eba6-4280-ab97-bc23ab160660",
   "metadata": {},
   "outputs": [],
   "source": []
  }
 ],
 "metadata": {
  "kernelspec": {
   "display_name": "Python 3 (ipykernel)",
   "language": "python",
   "name": "python3"
  },
  "language_info": {
   "codemirror_mode": {
    "name": "ipython",
    "version": 3
   },
   "file_extension": ".py",
   "mimetype": "text/x-python",
   "name": "python",
   "nbconvert_exporter": "python",
   "pygments_lexer": "ipython3",
   "version": "3.11.5"
  }
 },
 "nbformat": 4,
 "nbformat_minor": 5
}
