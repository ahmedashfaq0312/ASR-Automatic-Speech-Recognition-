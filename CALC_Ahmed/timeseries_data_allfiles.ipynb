{
 "cells": [
  {
   "cell_type": "code",
   "execution_count": null,
   "metadata": {},
   "outputs": [],
   "source": [
    "import pandas as pd\n",
    "import os\n",
    "import matplotlib.pyplot as plt\n",
    "\n",
    "# Define a function to load and concatenate all CSV files\n",
    "def load_and_concatenate_csvs(directory_path):\n",
    "    data_frames = []\n",
    "    try:\n",
    "        for file_name in os.listdir(directory_path):\n",
    "            if file_name.endswith('.csv'):\n",
    "                file_path = os.path.join(directory_path, file_name)\n",
    "                df = pd.read_csv(file_path)\n",
    "                df['Filename'] = file_name  # column for the filenam\n",
    "                data_frames.append(df)\n",
    "        concatenated_df = pd.concat(data_frames, ignore_index=True)\n",
    "        return concatenated_df\n",
    "    except FileNotFoundError as e:\n",
    "        print(f\"Error: {e}\")\n",
    "        return pd.DataFrame()\n",
    "\n",
    "\n",
    "directory_path = r'cycle_data'  \n",
    "\n"
   ]
  },
  {
   "cell_type": "code",
   "execution_count": null,
   "metadata": {},
   "outputs": [],
   "source": [
    "# Load and concatenate all CSV files from the directory\n",
    "battery_data = load_and_concatenate_csvs(directory_path)\n",
    "\n",
    "# Check if data was loaded successfully\n",
    "if not battery_data.empty:\n",
    "    # Display basic information about the concatenated DataFrame\n",
    "    print(\"Data loaded successfully!\")\n",
    "    print(battery_data.info())\n",
    "    print(battery_data.head())\n",
    "\n",
    "    # Drop columns with no data\n",
    "    battery_data = battery_data.drop(columns=['Start_Time', 'End_Time'])\n",
    "\n",
    "    # Handle any remaining missing values (e.g., filling with mean or median)\n",
    "    battery_data.fillna(battery_data.mean(), inplace=True)\n",
    "\n",
    "    # Display the first few rows after preprocessing\n",
    "    print(\"First few rows after preprocessing:\")\n",
    "    print(battery_data.head())\n",
    "\n",
    "    # Proceed with feature engineering and visualization\n",
    "else:\n",
    "    print(\"No data loaded. Please check the directory path and try again.\")\n"
   ]
  }
 ],
 "metadata": {
  "language_info": {
   "name": "python"
  }
 },
 "nbformat": 4,
 "nbformat_minor": 2
}
