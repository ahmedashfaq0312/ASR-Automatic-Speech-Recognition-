{
 "cells": [
  {
   "attachments": {},
   "cell_type": "markdown",
   "metadata": {},
   "source": [
    "# Introduction to the NASA Dataset\n",
    "\n",
    "In this notebook a short introduction to the wrapper code for the usage of the dataset is given."
   ]
  },
  {
   "cell_type": "code",
   "execution_count": null,
   "metadata": {},
   "outputs": [],
   "source": [
    "from nasa.downloader import NASADownoader\n",
    "from nasa.converter import NASAConverter\n",
    "from nasa.dataset import NASADataset"
   ]
  },
  {
   "attachments": {},
   "cell_type": "markdown",
   "metadata": {},
   "source": [
    "## Download the NASA Dataset\n",
    "\n",
    "By executing the following code the raw dataset is being downloaded and extracted.\n",
    "\n",
    "The dataset then has the following structure:\n",
    "- NASA_raw/\n",
    "  - B0005.mat\n",
    "  - B0006.mat\n",
    "  - ..."
   ]
  },
  {
   "cell_type": "code",
   "execution_count": null,
   "metadata": {},
   "outputs": [],
   "source": [
    "nasa_downloader = NASADownoader()\n",
    "nasa_downloader.download()\n",
    "nasa_downloader.extract()"
   ]
  },
  {
   "attachments": {},
   "cell_type": "markdown",
   "metadata": {},
   "source": [
    "## Convert the NASA Dataset\n",
    "\n",
    "By executing the following code the raw dataset is converted. The data from the matlab matrices files will be converted into CSV files for each cycle and a metadata file. \n",
    "\n",
    "The dataset then has the following structure:\n",
    "- NASA/\n",
    "  - metadata.csv\n",
    "  - data/\n",
    "    - 00001.csv\n",
    "    - 00002.csv\n",
    "    - 00003.csv\n",
    "    - ---"
   ]
  },
  {
   "cell_type": "code",
   "execution_count": null,
   "metadata": {},
   "outputs": [],
   "source": [
    "nasa_converter = NASAConverter()\n",
    "nasa_converter.convert()\n"
   ]
  },
  {
   "attachments": {},
   "cell_type": "markdown",
   "metadata": {},
   "source": [
    "## Load the NASA Dataset"
   ]
  },
  {
   "cell_type": "code",
   "execution_count": null,
   "metadata": {},
   "outputs": [],
   "source": [
    "nasa_dataset = NASADataset()\n",
    "nasa_dataset.capacities"
   ]
  },
  {
   "cell_type": "code",
   "execution_count": null,
   "metadata": {},
   "outputs": [],
   "source": []
  }
 ],
 "metadata": {
  "kernelspec": {
   "display_name": "rul_est",
   "language": "python",
   "name": "python3"
  },
  "language_info": {
   "codemirror_mode": {
    "name": "ipython",
    "version": 3
   },
   "file_extension": ".py",
   "mimetype": "text/x-python",
   "name": "python",
   "nbconvert_exporter": "python",
   "pygments_lexer": "ipython3",
   "version": "3.8.16"
  },
  "orig_nbformat": 4
 },
 "nbformat": 4,
 "nbformat_minor": 2
}
